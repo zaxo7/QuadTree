{
 "cells": [
  {
   "cell_type": "code",
   "execution_count": null,
   "metadata": {},
   "outputs": [],
   "source": [
    "# source : https://scipython.com/blog/quadtrees-2-implementation-in-python/\n",
    "import numpy as np\n",
    "import matplotlib.pyplot as plt\n",
    "from scripts.quadtree import Point, Rect, QuadTree\n",
    "from matplotlib import gridspec\n",
    "from PIL import Image\n",
    "\n",
    "DPI = 72\n",
    "np.random.seed(60)\n",
    "\n",
    "width, height = 600, 400\n",
    "\n",
    "N = 500\n",
    "coords = np.random.randn(N, 2) * height/3 + (width/2, height/2)\n",
    "points = [Point(*coord) for coord in coords]\n",
    "\n",
    "domain = Rect(width/2, height/2, width, height)\n",
    "qtree = QuadTree(domain, 3)\n",
    "for point in points:\n",
    "    qtree.insert(point)\n",
    "\n",
    "print('Number of points in the domain =', len(qtree))\n",
    "\n",
    "fig = plt.figure(figsize=(700/DPI, 500/DPI), dpi=DPI)\n",
    "ax = plt.subplot()\n",
    "ax.set_xlim(0, width)\n",
    "ax.set_ylim(0, height)\n",
    "qtree.draw(ax)\n",
    "\n",
    "ax.scatter([p.x for p in points], [p.y for p in points], s=4)\n",
    "ax.set_xticks([])\n",
    "ax.set_yticks([])\n",
    "\n",
    "region = Rect(140, 190, 150, 150)\n",
    "found_points = []\n",
    "qtree.query(region, found_points)\n",
    "print('Number of found points =', len(found_points))\n",
    "\n",
    "ax.scatter([p.x for p in found_points], [p.y for p in found_points],\n",
    "           facecolors='none', edgecolors='r', s=32)\n",
    "\n",
    "region.draw(ax, c='r')\n",
    "\n",
    "ax.invert_yaxis()\n",
    "plt.tight_layout()\n",
    "plt.savefig('search-quadtree.png', DPI=72)\n",
    "plt.show()\n"
   ]
  },
  {
   "cell_type": "code",
   "execution_count": 30,
   "metadata": {},
   "outputs": [],
   "source": [
    "img = Image.open(r\"Im108_0.jpg\")\n",
    "\n",
    "data = np.asarray(img.crop((0,0,1944,1944)))\n",
    "\n",
    "width = 1944\n",
    "height = 1944\n",
    "\n",
    "domain = Rect(width/2, height/2, width, height)\n",
    "\n",
    "qtree = QuadTree(domain, 3)\n",
    "for i in np.arange(188):\n",
    "    for j in np.arange(188):\n",
    "        qtree.insert(Point(i, j, payload=data[i,j]))"
   ]
  },
  {
   "cell_type": "code",
   "execution_count": 31,
   "metadata": {},
   "outputs": [
    {
     "name": "stdout",
     "output_type": "stream",
     "text": [
      "Number of points in the domain = 35344\n"
     ]
    }
   ],
   "source": [
    "print('Number of points in the domain =', len(qtree))"
   ]
  },
  {
   "cell_type": "code",
   "execution_count": 32,
   "metadata": {},
   "outputs": [
    {
     "data": {
      "image/png": "[encoded data removed]",
      "text/plain": [
       "<Figure size 700x500 with 1 Axes>"
      ]
     },
     "metadata": {
      "needs_background": "light"
     },
     "output_type": "display_data"
    }
   ],
   "source": [
    "fig = plt.figure(figsize=(700/DPI, 500/DPI), dpi=DPI)\n",
    "ax = plt.subplot()\n",
    "ax.set_xlim(0, width)\n",
    "ax.set_ylim(0, height)\n",
    "qtree.draw(ax)"
   ]
  }
 ],
 "metadata": {
  "interpreter": {
   "hash": "c475343c90b37f20c02fd3a18d45f7c3e275848f34e4c07d7554fbf081374c3b"
  },
  "kernelspec": {
   "display_name": "Python 3.8.10 ('tensorflow')",
   "language": "python",
   "name": "python3"
  },
  "language_info": {
   "codemirror_mode": {
    "name": "ipython",
    "version": 3
   },
   "file_extension": ".py",
   "mimetype": "text/x-python",
   "name": "python",
   "nbconvert_exporter": "python",
   "pygments_lexer": "ipython3",
   "version": "3.8.10"
  },
  "orig_nbformat": 4
 },
 "nbformat": 4,
 "nbformat_minor": 2
}
